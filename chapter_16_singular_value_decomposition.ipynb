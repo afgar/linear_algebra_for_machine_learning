{
 "cells": [
  {
   "cell_type": "markdown",
   "metadata": {},
   "source": [
    "# Capítulo 16. Descomposición en valores singulares (Singular Value Decomposition)\n",
    "\n",
    "Todas las matrices se pueden descomponer en valores singulares, lo que hace de este método que sea mas estable que otros. Ademas se usa en un amplio rango de aplicaciones como la inversa, los mínimos cuadrados, la compresión de imágenes, la eliminación de ruido y reducción de datos.\n",
    "\n",
    "A = U · Σ · V<sup>T</sup>\n",
    "\n",
    "Donde A es la matriz real m × n que deseamos descomponer, U es una matriz m × m, Σ (representada por la letra mayúscula griega sigma) es una matriz diagonal m × n, y V<sup>T</sup> es la traspuesta de V.\n",
    "\n",
    "Los valores diagonales en la matriz Σ se conocen como los valores singulares de la matriz A original. Las columnas de la matriz U se llaman vectores singulares izquierdos de A, y las columnas de V se llaman vectores singulares derechos de A. Cada matriz rectangular tiene una descomposición de valor singular, aunque las matrices resultantes pueden contener números complejos y las limitaciones de la aritmética de coma flotante pueden causar que algunas matrices no se descompongan eficientemente.\n",
    "\n",
    "## Cálculo\n",
    "\n",
    "La SVD se puede calcular llamando a la función svd(). La función toma una matriz y devuelve los elementos U, Σ y V<sup>T</sup>. La matriz Σ diagonal se devuelve como un vector de valores singulares. La matriz V se devuelve en una forma traspuesta, V<sup>T</sup>. El siguiente ejemplo define una matriz de 3 × 2 y calcula la descomposición de valores singulares."
   ]
  },
  {
   "cell_type": "code",
   "execution_count": 1,
   "metadata": {},
   "outputs": [
    {
     "data": {
      "text/plain": [
       "array([[1, 2],\n",
       "       [3, 4],\n",
       "       [5, 6]])"
      ]
     },
     "execution_count": 1,
     "metadata": {},
     "output_type": "execute_result"
    }
   ],
   "source": [
    "# singular-value decomposition\n",
    "from numpy import array\n",
    "from scipy.linalg import svd\n",
    "\n",
    "# define a matrix\n",
    "A = array([\n",
    "[1, 2],\n",
    "[3, 4],\n",
    "[5, 6]])\n",
    "A"
   ]
  },
  {
   "cell_type": "code",
   "execution_count": 2,
   "metadata": {},
   "outputs": [],
   "source": [
    "# factorize\n",
    "U, s, VT = svd(A)"
   ]
  },
  {
   "cell_type": "code",
   "execution_count": 3,
   "metadata": {},
   "outputs": [
    {
     "data": {
      "text/plain": [
       "array([[-0.2298477 ,  0.88346102,  0.40824829],\n",
       "       [-0.52474482,  0.24078249, -0.81649658],\n",
       "       [-0.81964194, -0.40189603,  0.40824829]])"
      ]
     },
     "execution_count": 3,
     "metadata": {},
     "output_type": "execute_result"
    }
   ],
   "source": [
    "U"
   ]
  },
  {
   "cell_type": "code",
   "execution_count": 4,
   "metadata": {},
   "outputs": [
    {
     "data": {
      "text/plain": [
       "array([9.52551809, 0.51430058])"
      ]
     },
     "execution_count": 4,
     "metadata": {},
     "output_type": "execute_result"
    }
   ],
   "source": [
    "s"
   ]
  },
  {
   "cell_type": "code",
   "execution_count": 5,
   "metadata": {},
   "outputs": [
    {
     "data": {
      "text/plain": [
       "array([[-0.61962948, -0.78489445],\n",
       "       [-0.78489445,  0.61962948]])"
      ]
     },
     "execution_count": 5,
     "metadata": {},
     "output_type": "execute_result"
    }
   ],
   "source": [
    "VT"
   ]
  },
  {
   "cell_type": "markdown",
   "metadata": {},
   "source": [
    "## Reconstrucción\n",
    "\n",
    "La matriz original se puede reconstruir a partir de los elementos U, Σ y V<sup>T</sup>. Los elementos U, s y VT devueltos desde el svd() no se pueden multiplicar directamente. El vector s se debe convertir en una matriz diagonal usando la función diag(). Por defecto, esta función creará una matriz cuadrada que es m x m, relativa a nuestra matriz original. Esto causa un problema ya que el tamaño de las matrices no se ajusta a las reglas de la multiplicación de matrices, donde el número de columnas en una matriz debe coincidir con el número de filas en la matriz subsiguiente. Después de crear la matriz cuadrada Σ diagonal, los tamaños de las matrices son relativos a la matriz original m × n que estamos descomponiendo, de la siguiente manera:\n",
    "\n",
    "U(m × m) · Σ(m × m) · V<sup>T</sup>(n × n)\n",
    "\n",
    "Y queremos:\n",
    "\n",
    "U(m × m) · Σ(m × n) · V<sup>T</sup> (n × n)\n",
    "\n",
    "Podemos lograr esto creando una nueva matriz de valores cero que sea m × n (por ejemplo, más filas) y rellenemos la primera n × n parte de la matriz con la matriz diagonal cuadrada calculada a través de diag()."
   ]
  },
  {
   "cell_type": "code",
   "execution_count": 6,
   "metadata": {},
   "outputs": [
    {
     "data": {
      "text/plain": [
       "array([[0., 0.],\n",
       "       [0., 0.],\n",
       "       [0., 0.]])"
      ]
     },
     "execution_count": 6,
     "metadata": {},
     "output_type": "execute_result"
    }
   ],
   "source": [
    "# reconstruct rectangular matrix from svd\n",
    "from numpy import diag\n",
    "from numpy import zeros\n",
    "\n",
    "# create m x n Sigma matrix with the same size of A\n",
    "Sigma = zeros((A.shape[0], A.shape[1]))\n",
    "Sigma"
   ]
  },
  {
   "cell_type": "code",
   "execution_count": 7,
   "metadata": {},
   "outputs": [
    {
     "data": {
      "text/plain": [
       "array([[9.52551809, 0.        ],\n",
       "       [0.        , 0.51430058],\n",
       "       [0.        , 0.        ]])"
      ]
     },
     "execution_count": 7,
     "metadata": {},
     "output_type": "execute_result"
    }
   ],
   "source": [
    "# populate Sigma with n x n diagonal matrix\n",
    "Sigma[:A.shape[1], :A.shape[1]] = diag(s)\n",
    "Sigma"
   ]
  },
  {
   "cell_type": "code",
   "execution_count": 8,
   "metadata": {},
   "outputs": [
    {
     "data": {
      "text/plain": [
       "array([[1., 2.],\n",
       "       [3., 4.],\n",
       "       [5., 6.]])"
      ]
     },
     "execution_count": 8,
     "metadata": {},
     "output_type": "execute_result"
    }
   ],
   "source": [
    "# reconstruct matrix\n",
    "B = U.dot(Sigma.dot(VT))\n",
    "B"
   ]
  },
  {
   "cell_type": "markdown",
   "metadata": {},
   "source": [
    "Esta complicación con Σ diagonal solo existe con el caso en que m y n no son iguales. La matriz diagonal se puede usar directamente al reconstruir una matriz cuadrada, de la siguiente manera."
   ]
  },
  {
   "cell_type": "code",
   "execution_count": 9,
   "metadata": {},
   "outputs": [
    {
     "data": {
      "text/plain": [
       "array([[1, 2, 3],\n",
       "       [4, 5, 6],\n",
       "       [7, 8, 9]])"
      ]
     },
     "execution_count": 9,
     "metadata": {},
     "output_type": "execute_result"
    }
   ],
   "source": [
    "# define square matrix\n",
    "A = array([\n",
    "[1, 2, 3],\n",
    "[4, 5, 6],\n",
    "[7, 8, 9]])\n",
    "A"
   ]
  },
  {
   "cell_type": "code",
   "execution_count": 10,
   "metadata": {},
   "outputs": [
    {
     "data": {
      "text/plain": [
       "array([1.68481034e+01, 1.06836951e+00, 3.33475287e-16])"
      ]
     },
     "execution_count": 10,
     "metadata": {},
     "output_type": "execute_result"
    }
   ],
   "source": [
    "# factorize\n",
    "U, s, VT = svd(A)\n",
    "s"
   ]
  },
  {
   "cell_type": "code",
   "execution_count": 11,
   "metadata": {},
   "outputs": [
    {
     "data": {
      "text/plain": [
       "array([[1.68481034e+01, 0.00000000e+00, 0.00000000e+00],\n",
       "       [0.00000000e+00, 1.06836951e+00, 0.00000000e+00],\n",
       "       [0.00000000e+00, 0.00000000e+00, 3.33475287e-16]])"
      ]
     },
     "execution_count": 11,
     "metadata": {},
     "output_type": "execute_result"
    }
   ],
   "source": [
    "# create n x n Sigma matrix\n",
    "Sigma = diag(s)\n",
    "Sigma"
   ]
  },
  {
   "cell_type": "code",
   "execution_count": 12,
   "metadata": {},
   "outputs": [
    {
     "data": {
      "text/plain": [
       "array([[1., 2., 3.],\n",
       "       [4., 5., 6.],\n",
       "       [7., 8., 9.]])"
      ]
     },
     "execution_count": 12,
     "metadata": {},
     "output_type": "execute_result"
    }
   ],
   "source": [
    "B = U.dot(Sigma.dot(VT))\n",
    "B"
   ]
  },
  {
   "cell_type": "markdown",
   "metadata": {},
   "source": [
    "## Pseudoinversa\n",
    "\n",
    "La pseudoinversa es la generalización de la matriz inversa para matrices cuadradas y matrices rectangulares donde el número de filas y columnas no son iguales. También se la llama Inversa de Moore-Penrose después de dos descubridores independientes del método o la inversa generalizada.\n",
    "\n",
    "La pseudoinversa se denota como A<sup>+</sup>, donde A es la matriz que se está invirtiendo y + es un superíndice. La pseudoinversa se calcula usando la descomposición de valores singulares de A:\n",
    "\n",
    "A<sup>+</sup> = V · D<sup>+</sup> · U<sup>T</sup>\n",
    "\n",
    "Donde A<sup>+</sup> es la pseudoinversa, D<sup>+</sup> es la pseudoinversa de la matriz diagonal Σ y U<sup>T</sup> es la traspuesta de U. Podemos obtener U y V de la descomposición en valores singulares.\n",
    "\n",
    "La pseudoinversa provee una manera de resolver la ecuación de regresión linear, especificamente cuando hay mas filas que columnas, que a menudo es el caso. NumPy provee la función pinv() para calcular la pseudoinversa de una matriz rectangular."
   ]
  },
  {
   "cell_type": "code",
   "execution_count": 13,
   "metadata": {},
   "outputs": [
    {
     "data": {
      "text/plain": [
       "array([[0.1, 0.2],\n",
       "       [0.3, 0.4],\n",
       "       [0.5, 0.6],\n",
       "       [0.7, 0.8]])"
      ]
     },
     "execution_count": 13,
     "metadata": {},
     "output_type": "execute_result"
    }
   ],
   "source": [
    "from numpy.linalg import pinv\n",
    "\n",
    "# define matrix\n",
    "A = array([\n",
    "[0.1, 0.2],\n",
    "[0.3, 0.4],\n",
    "[0.5, 0.6],\n",
    "[0.7, 0.8]])\n",
    "A"
   ]
  },
  {
   "cell_type": "code",
   "execution_count": 14,
   "metadata": {},
   "outputs": [
    {
     "data": {
      "text/plain": [
       "array([[-1.00000000e+01, -5.00000000e+00,  9.07607323e-15,\n",
       "         5.00000000e+00],\n",
       "       [ 8.50000000e+00,  4.50000000e+00,  5.00000000e-01,\n",
       "        -3.50000000e+00]])"
      ]
     },
     "execution_count": 14,
     "metadata": {},
     "output_type": "execute_result"
    }
   ],
   "source": [
    "# calculate pseudoinverse\n",
    "B = pinv(A)\n",
    "B"
   ]
  },
  {
   "cell_type": "markdown",
   "metadata": {},
   "source": [
    "Podemos calcular la matriz pseudoinversa manualmente a través de la descomposición en valores singulares y comparar los resultados con la función pinv(). Primero debemos calcular la descomposición en valores singulares. A continuación, debemos calcular el recíproco de cada valor en la matriz s. Luego, la matriz s se puede transformar en una matriz diagonal con una fila adicional de ceros para que sea rectangular. Finalmente, podemos calcular la pseudoinversa de los elementos. La implementación específica es:\n",
    "\n",
    "A<sup>+</sup> = V · D<sup>+</sup> · U<sup>T</sup>"
   ]
  },
  {
   "cell_type": "code",
   "execution_count": 15,
   "metadata": {},
   "outputs": [
    {
     "data": {
      "text/plain": [
       "array([1.42690955, 0.06268282])"
      ]
     },
     "execution_count": 15,
     "metadata": {},
     "output_type": "execute_result"
    }
   ],
   "source": [
    "# factorize\n",
    "U, s, VT = svd(A)\n",
    "s"
   ]
  },
  {
   "cell_type": "code",
   "execution_count": 16,
   "metadata": {},
   "outputs": [
    {
     "data": {
      "text/plain": [
       "array([ 0.70081527, 15.95333376])"
      ]
     },
     "execution_count": 16,
     "metadata": {},
     "output_type": "execute_result"
    }
   ],
   "source": [
    "# reciprocals of s\n",
    "d = 1.0 / s\n",
    "d"
   ]
  },
  {
   "cell_type": "code",
   "execution_count": 17,
   "metadata": {},
   "outputs": [
    {
     "data": {
      "text/plain": [
       "array([[0., 0.],\n",
       "       [0., 0.],\n",
       "       [0., 0.],\n",
       "       [0., 0.]])"
      ]
     },
     "execution_count": 17,
     "metadata": {},
     "output_type": "execute_result"
    }
   ],
   "source": [
    "# create m x n D matrix\n",
    "D = zeros(A.shape)\n",
    "D"
   ]
  },
  {
   "cell_type": "code",
   "execution_count": 18,
   "metadata": {},
   "outputs": [
    {
     "data": {
      "text/plain": [
       "array([[ 0.70081527,  0.        ],\n",
       "       [ 0.        , 15.95333376],\n",
       "       [ 0.        ,  0.        ],\n",
       "       [ 0.        ,  0.        ]])"
      ]
     },
     "execution_count": 18,
     "metadata": {},
     "output_type": "execute_result"
    }
   ],
   "source": [
    "# populate D with n x n diagonal matrix\n",
    "D[:A.shape[1], :A.shape[1]] = diag(d)\n",
    "D"
   ]
  },
  {
   "cell_type": "code",
   "execution_count": 19,
   "metadata": {},
   "outputs": [
    {
     "data": {
      "text/plain": [
       "array([[-1.00000000e+01, -5.00000000e+00,  9.07607323e-15,\n",
       "         5.00000000e+00],\n",
       "       [ 8.50000000e+00,  4.50000000e+00,  5.00000000e-01,\n",
       "        -3.50000000e+00]])"
      ]
     },
     "execution_count": 19,
     "metadata": {},
     "output_type": "execute_result"
    }
   ],
   "source": [
    "# calculate pseudoinverse\n",
    "B = VT.T.dot(D.T).dot(U.T)\n",
    "B"
   ]
  },
  {
   "cell_type": "markdown",
   "metadata": {},
   "source": [
    "## Reducción de dimensionalidad (Dimensionality Reduction)\n",
    "\n",
    "Una aplicación popular de la descomposición en valores singulares es la reducción de dimensionalidad. Los datos con una gran cantidad de características (features), como más características (columnas) que observaciones (filas), se pueden reducir a un subconjunto más pequeño de características que son más relevantes para el problema de predicción. El resultado es una matriz con un rango inferior que se dice que se aproxima a la matriz original. Para hacer esto, podemos realizar una operación de descomposición en valores singulares en los datos originales y seleccionar los primeros k valores singulares más grandes en Σ. Estas columnas se pueden seleccionar desde Σ y las filas seleccionadas desde V<sup>T</sup>. Luego se puede reconstruir una B aproximada del vector A original.\n",
    "\n",
    "B = U · Σ<sub>k</sub> · V<sup>T</sup><sub>k</sub>\n",
    "\n",
    "En el procesamiento del lenguaje natural, este enfoque se puede utilizar en matrices de ocurrencias de palabras o frecuencias de palabras en documentos y se denomina Análisis Semántico Latente o Indización Semántica Latente. En la práctica, podemos retener y trabajar con un subconjunto descriptivo de los datos llamados T. Este es un resumen denso de la matriz o una proyección.\n",
    "\n",
    "T = U · Σ<sub>k</sub>\n",
    "\n",
    "Además, esta transformación se puede calcular y aplicar a la matriz original A así como a otras matrices similares.\n",
    "\n",
    "T = A · V<sup>T</sup><sub>k</sub>\n",
    "\n",
    "El siguiente ejemplo demuestra la reducción de datos con descomposición de valores singulares. Primero se define una matriz 3 × 10, con más columnas que filas. La descomposición en valores singulares se calcula y solo se seleccionan las dos primeras características. Los elementos se recombinan para dar una reproducción precisa de la matriz original. Finalmente, la transformación se calcula de dos formas diferentes."
   ]
  },
  {
   "cell_type": "code",
   "execution_count": 20,
   "metadata": {},
   "outputs": [
    {
     "data": {
      "text/plain": [
       "array([[ 1,  2,  3,  4,  5,  6,  7,  8,  9, 10],\n",
       "       [11, 12, 13, 14, 15, 16, 17, 18, 19, 20],\n",
       "       [21, 22, 23, 24, 25, 26, 27, 28, 29, 30]])"
      ]
     },
     "execution_count": 20,
     "metadata": {},
     "output_type": "execute_result"
    }
   ],
   "source": [
    "# define matrix\n",
    "A = array([\n",
    "[1,2,3,4,5,6,7,8,9,10],\n",
    "[11,12,13,14,15,16,17,18,19,20],\n",
    "[21,22,23,24,25,26,27,28,29,30]])\n",
    "A"
   ]
  },
  {
   "cell_type": "code",
   "execution_count": 21,
   "metadata": {},
   "outputs": [],
   "source": [
    "# factorize\n",
    "U, s, VT = svd(A)\n",
    "\n",
    "# create m x n Sigma matrix\n",
    "Sigma = zeros((A.shape[0], A.shape[1]))\n",
    "\n",
    "# populate Sigma with n x n diagonal matrix\n",
    "Sigma[:A.shape[0], :A.shape[0]] = diag(s)\n",
    "\n",
    "# select\n",
    "n_elements = 2\n",
    "Sigma = Sigma[:, :n_elements]"
   ]
  },
  {
   "cell_type": "code",
   "execution_count": 22,
   "metadata": {},
   "outputs": [
    {
     "data": {
      "text/plain": [
       "array([[-0.19101157,  0.89266338,  0.40824829],\n",
       "       [-0.51371859,  0.26348917, -0.81649658],\n",
       "       [-0.8364256 , -0.36568503,  0.40824829]])"
      ]
     },
     "execution_count": 22,
     "metadata": {},
     "output_type": "execute_result"
    }
   ],
   "source": [
    "U"
   ]
  },
  {
   "cell_type": "code",
   "execution_count": 23,
   "metadata": {},
   "outputs": [
    {
     "data": {
      "text/plain": [
       "array([[96.96573419,  0.        ],\n",
       "       [ 0.        ,  7.25578339],\n",
       "       [ 0.        ,  0.        ]])"
      ]
     },
     "execution_count": 23,
     "metadata": {},
     "output_type": "execute_result"
    }
   ],
   "source": [
    "Sigma"
   ]
  },
  {
   "cell_type": "code",
   "execution_count": 24,
   "metadata": {},
   "outputs": [
    {
     "data": {
      "text/plain": [
       "array([[-0.24139304, -0.25728686, -0.27318068, -0.2890745 , -0.30496832,\n",
       "        -0.32086214, -0.33675595, -0.35264977, -0.36854359, -0.38443741],\n",
       "       [-0.53589546, -0.42695236, -0.31800926, -0.20906617, -0.10012307,\n",
       "         0.00882003,  0.11776313,  0.22670623,  0.33564933,  0.44459242],\n",
       "       [-0.76308471,  0.57981078,  0.1426451 ,  0.09783039,  0.10006951,\n",
       "         0.08192046, -0.02182071, -0.07111153,  0.02343386, -0.16969316],\n",
       "       [-0.11442628, -0.24159965, -0.22978376,  0.9248098 , -0.07469427,\n",
       "        -0.07119775, -0.05510443, -0.0470247 , -0.06011372, -0.03086524],\n",
       "       [-0.03428472, -0.13813055, -0.29451801, -0.06190924,  0.92563949,\n",
       "        -0.08203999, -0.06968687, -0.07007771, -0.10413301, -0.07085938],\n",
       "       [ 0.02720949, -0.03009057, -0.34021657, -0.04844604, -0.07353916,\n",
       "         0.90753768, -0.08548326, -0.09498217, -0.14800938, -0.11398001],\n",
       "       [ 0.01041974,  0.09713855, -0.30600093, -0.03421776, -0.07067076,\n",
       "        -0.10112181,  0.89362412, -0.12765928, -0.19128579, -0.17022608],\n",
       "       [ 0.04343118,  0.2121603 , -0.32262357, -0.02047619, -0.06910461,\n",
       "        -0.11090274, -0.12402648,  0.84460826, -0.23494388, -0.21812226],\n",
       "       [ 0.20799756,  0.29493499, -0.47354078, -0.00802033, -0.07097847,\n",
       "        -0.12364611, -0.13311291, -0.17006239,  0.7203898 , -0.24396136],\n",
       "       [ 0.10945405,  0.44220378, -0.35586886,  0.00700694, -0.06597231,\n",
       "        -0.13046462, -0.15932766, -0.21085665, -0.32226005,  0.68608538]])"
      ]
     },
     "execution_count": 24,
     "metadata": {},
     "output_type": "execute_result"
    }
   ],
   "source": [
    "VT"
   ]
  },
  {
   "cell_type": "code",
   "execution_count": 25,
   "metadata": {},
   "outputs": [
    {
     "ename": "ValueError",
     "evalue": "shapes (3,2) and (10,10) not aligned: 2 (dim 1) != 10 (dim 0)",
     "output_type": "error",
     "traceback": [
      "\u001b[0;31m---------------------------------------------------------------------------\u001b[0m",
      "\u001b[0;31mValueError\u001b[0m                                Traceback (most recent call last)",
      "\u001b[0;32m<ipython-input-25-8c8f75c64bb3>\u001b[0m in \u001b[0;36m<module>\u001b[0;34m()\u001b[0m\n\u001b[1;32m      1\u001b[0m \u001b[0;31m# reconstruct\u001b[0m\u001b[0;34m\u001b[0m\u001b[0;34m\u001b[0m\u001b[0m\n\u001b[0;32m----> 2\u001b[0;31m \u001b[0mB\u001b[0m \u001b[0;34m=\u001b[0m \u001b[0mU\u001b[0m\u001b[0;34m.\u001b[0m\u001b[0mdot\u001b[0m\u001b[0;34m(\u001b[0m\u001b[0mSigma\u001b[0m\u001b[0;34m)\u001b[0m\u001b[0;34m.\u001b[0m\u001b[0mdot\u001b[0m\u001b[0;34m(\u001b[0m\u001b[0mVT\u001b[0m\u001b[0;34m)\u001b[0m\u001b[0;34m\u001b[0m\u001b[0m\n\u001b[0m",
      "\u001b[0;31mValueError\u001b[0m: shapes (3,2) and (10,10) not aligned: 2 (dim 1) != 10 (dim 0)"
     ]
    }
   ],
   "source": [
    "# reconstruct\n",
    "B = U.dot(Sigma).dot(VT)"
   ]
  },
  {
   "cell_type": "code",
   "execution_count": null,
   "metadata": {},
   "outputs": [],
   "source": [
    "# transform\n",
    "T = U.dot(Sigma)\n",
    "T"
   ]
  },
  {
   "cell_type": "code",
   "execution_count": null,
   "metadata": {},
   "outputs": [],
   "source": [
    "T = A.dot(VT.T)\n",
    "T"
   ]
  }
 ],
 "metadata": {
  "kernelspec": {
   "display_name": "Python 3",
   "language": "python",
   "name": "python3"
  },
  "language_info": {
   "codemirror_mode": {
    "name": "ipython",
    "version": 3
   },
   "file_extension": ".py",
   "mimetype": "text/x-python",
   "name": "python",
   "nbconvert_exporter": "python",
   "pygments_lexer": "ipython3",
   "version": "3.6.5"
  }
 },
 "nbformat": 4,
 "nbformat_minor": 2
}
