{
 "cells": [
  {
   "cell_type": "markdown",
   "metadata": {},
   "source": [
    "# Capítulo 16. Descomposición en valores singulares (Singular Value Decomposition)\n",
    "\n",
    "Todas las matrices se pueden descomponer en valores singulares, lo que hace de este método que sea mas estable que otros. Ademas se usa en un amplio rango de aplicaciones como la inversa, los mínimos cuadrados, la compresión de imágenes, la eliminación de ruido y reducción de datos.\n",
    "\n",
    "A = U · Σ · V<sup>T</sup>\n",
    "\n",
    "Donde A es la matriz real m × n que deseamos descomponer, U es una matriz m × m, Σ (representada por la letra mayúscula griega sigma) es una matriz diagonal m × n, y V<sup>T</sup> es la traspuesta de V.\n",
    "\n",
    "Los valores diagonales en la matriz Σ se conocen como los valores singulares de la matriz A original. Las columnas de la matriz U se llaman vectores singulares izquierdos de A, y las columnas de V se llaman vectores singulares derechos de A. Cada matriz rectangular tiene una descomposición de valor singular, aunque las matrices resultantes pueden contener números complejos y las limitaciones de la aritmética de coma flotante pueden causar que algunas matrices no se descompongan eficientemente.\n",
    "\n",
    "## Cálculo\n",
    "\n",
    "La SVD se puede calcular llamando a la función svd(). La función toma una matriz y devuelve los elementos U, Σ y V<sup>T</sup>. La matriz Σ diagonal se devuelve como un vector de valores singulares. La matriz V se devuelve en una forma traspuesta, V<sup>T</sup>. El siguiente ejemplo define una matriz de 3 × 2 y calcula la descomposición de valores singulares."
   ]
  },
  {
   "cell_type": "code",
   "execution_count": 1,
   "metadata": {},
   "outputs": [
    {
     "data": {
      "text/plain": [
       "array([[1, 2],\n",
       "       [3, 4],\n",
       "       [5, 6]])"
      ]
     },
     "execution_count": 1,
     "metadata": {},
     "output_type": "execute_result"
    }
   ],
   "source": [
    "# singular-value decomposition\n",
    "from numpy import array\n",
    "from scipy.linalg import svd\n",
    "\n",
    "# define a matrix\n",
    "A = array([\n",
    "[1, 2],\n",
    "[3, 4],\n",
    "[5, 6]])\n",
    "A"
   ]
  },
  {
   "cell_type": "code",
   "execution_count": 2,
   "metadata": {},
   "outputs": [],
   "source": [
    "# factorize\n",
    "U, s, VT = svd(A)"
   ]
  },
  {
   "cell_type": "code",
   "execution_count": 3,
   "metadata": {},
   "outputs": [
    {
     "data": {
      "text/plain": [
       "array([[-0.2298477 ,  0.88346102,  0.40824829],\n",
       "       [-0.52474482,  0.24078249, -0.81649658],\n",
       "       [-0.81964194, -0.40189603,  0.40824829]])"
      ]
     },
     "execution_count": 3,
     "metadata": {},
     "output_type": "execute_result"
    }
   ],
   "source": [
    "U"
   ]
  },
  {
   "cell_type": "code",
   "execution_count": 4,
   "metadata": {},
   "outputs": [
    {
     "data": {
      "text/plain": [
       "array([9.52551809, 0.51430058])"
      ]
     },
     "execution_count": 4,
     "metadata": {},
     "output_type": "execute_result"
    }
   ],
   "source": [
    "s"
   ]
  },
  {
   "cell_type": "code",
   "execution_count": 5,
   "metadata": {},
   "outputs": [
    {
     "data": {
      "text/plain": [
       "array([[-0.61962948, -0.78489445],\n",
       "       [-0.78489445,  0.61962948]])"
      ]
     },
     "execution_count": 5,
     "metadata": {},
     "output_type": "execute_result"
    }
   ],
   "source": [
    "VT"
   ]
  },
  {
   "cell_type": "markdown",
   "metadata": {},
   "source": [
    "## Reconstrucción\n",
    "\n",
    "La matriz original se puede reconstruir a partir de los elementos U, Σ y V<sup>T</sup>. Los elementos U, s y VT devueltos desde el svd() no se pueden multiplicar directamente. El vector s se debe convertir en una matriz diagonal usando la función diag(). Por defecto, esta función creará una matriz cuadrada que es m x m, relativa a nuestra matriz original. Esto causa un problema ya que el tamaño de las matrices no se ajusta a las reglas de la multiplicación de matrices, donde el número de columnas en una matriz debe coincidir con el número de filas en la matriz subsiguiente. Después de crear la matriz cuadrada Σ diagonal, los tamaños de las matrices son relativos a la matriz original m × n que estamos descomponiendo, de la siguiente manera:\n",
    "\n",
    "U(m × m) · Σ(m × m) · V<sup>T</sup>(n × n)\n",
    "\n",
    "Y queremos:\n",
    "\n",
    "U(m × m) · Σ(m × n) · V<sup>T</sup> (n × n)\n",
    "\n",
    "Podemos lograr esto creando una nueva matriz de valores cero que sea m × n (por ejemplo, más filas) y rellenemos la primera n × n parte de la matriz con la matriz diagonal cuadrada calculada a través de diag()."
   ]
  },
  {
   "cell_type": "code",
   "execution_count": 6,
   "metadata": {},
   "outputs": [
    {
     "data": {
      "text/plain": [
       "array([[0., 0.],\n",
       "       [0., 0.],\n",
       "       [0., 0.]])"
      ]
     },
     "execution_count": 6,
     "metadata": {},
     "output_type": "execute_result"
    }
   ],
   "source": [
    "# reconstruct rectangular matrix from svd\n",
    "from numpy import diag\n",
    "from numpy import zeros\n",
    "\n",
    "# create m x n Sigma matrix with the same size of A\n",
    "Sigma = zeros((A.shape[0], A.shape[1]))\n",
    "Sigma"
   ]
  },
  {
   "cell_type": "code",
   "execution_count": 7,
   "metadata": {},
   "outputs": [
    {
     "data": {
      "text/plain": [
       "array([[9.52551809, 0.        ],\n",
       "       [0.        , 0.51430058],\n",
       "       [0.        , 0.        ]])"
      ]
     },
     "execution_count": 7,
     "metadata": {},
     "output_type": "execute_result"
    }
   ],
   "source": [
    "# populate Sigma with n x n diagonal matrix\n",
    "Sigma[:A.shape[1], :A.shape[1]] = diag(s)\n",
    "Sigma"
   ]
  },
  {
   "cell_type": "code",
   "execution_count": 8,
   "metadata": {},
   "outputs": [
    {
     "data": {
      "text/plain": [
       "array([[1., 2.],\n",
       "       [3., 4.],\n",
       "       [5., 6.]])"
      ]
     },
     "execution_count": 8,
     "metadata": {},
     "output_type": "execute_result"
    }
   ],
   "source": [
    "# reconstruct matrix\n",
    "B = U.dot(Sigma.dot(VT))\n",
    "B"
   ]
  },
  {
   "cell_type": "markdown",
   "metadata": {},
   "source": [
    "Esta complicación con Σ diagonal solo existe con el caso en que m y n no son iguales. La matriz diagonal se puede usar directamente al reconstruir una matriz cuadrada, de la siguiente manera."
   ]
  },
  {
   "cell_type": "code",
   "execution_count": 9,
   "metadata": {},
   "outputs": [
    {
     "data": {
      "text/plain": [
       "array([[1, 2, 3],\n",
       "       [4, 5, 6],\n",
       "       [7, 8, 9]])"
      ]
     },
     "execution_count": 9,
     "metadata": {},
     "output_type": "execute_result"
    }
   ],
   "source": [
    "# define square matrix\n",
    "A = array([\n",
    "[1, 2, 3],\n",
    "[4, 5, 6],\n",
    "[7, 8, 9]])\n",
    "A"
   ]
  },
  {
   "cell_type": "code",
   "execution_count": 10,
   "metadata": {},
   "outputs": [
    {
     "data": {
      "text/plain": [
       "array([1.68481034e+01, 1.06836951e+00, 3.33475287e-16])"
      ]
     },
     "execution_count": 10,
     "metadata": {},
     "output_type": "execute_result"
    }
   ],
   "source": [
    "# factorize\n",
    "U, s, VT = svd(A)\n",
    "s"
   ]
  },
  {
   "cell_type": "code",
   "execution_count": 11,
   "metadata": {},
   "outputs": [
    {
     "data": {
      "text/plain": [
       "array([[1.68481034e+01, 0.00000000e+00, 0.00000000e+00],\n",
       "       [0.00000000e+00, 1.06836951e+00, 0.00000000e+00],\n",
       "       [0.00000000e+00, 0.00000000e+00, 3.33475287e-16]])"
      ]
     },
     "execution_count": 11,
     "metadata": {},
     "output_type": "execute_result"
    }
   ],
   "source": [
    "# create n x n Sigma matrix\n",
    "Sigma = diag(s)\n",
    "Sigma"
   ]
  },
  {
   "cell_type": "code",
   "execution_count": 12,
   "metadata": {},
   "outputs": [
    {
     "data": {
      "text/plain": [
       "array([[1., 2., 3.],\n",
       "       [4., 5., 6.],\n",
       "       [7., 8., 9.]])"
      ]
     },
     "execution_count": 12,
     "metadata": {},
     "output_type": "execute_result"
    }
   ],
   "source": [
    "B = U.dot(Sigma.dot(VT))\n",
    "B"
   ]
  },
  {
   "cell_type": "markdown",
   "metadata": {},
   "source": [
    "## Pseudoinversa\n",
    "\n",
    "La pseudoinversa es la generalización de la matriz inversa para matrices cuadradas y matrices rectangulares donde el número de filas y columnas no son iguales. También se la llama Inversa de Moore-Penrose después de dos descubridores independientes del método o la inversa generalizada.\n",
    "\n",
    "La pseudoinversa se denota como A<sup>+</sup>, donde A es la matriz que se está invirtiendo y + es un superíndice. La pseudoinversa se calcula usando la descomposición de valores singulares de A:\n",
    "\n",
    "A<sup>+</sup> = V · D<sup>+</sup> · U<sup>T</sup>\n",
    "\n",
    "Donde A<sup>+</sup> es la pseudoinversa, D<sup>+</sup> es la pseudoinversa de la matriz diagonal Σ y U<sup>T</sup> es la traspuesta de U. Podemos obtener U y V de la descomposición en valores singulares.\n",
    "\n",
    "La pseudoinversa provee una manera de resolver la ecuación de regresión linear, especificamente cuando hay mas filas que columnas, que a menudo es el caso. NumPy provee la función pinv() para calcular la pseudoinversa de una matriz rectangular."
   ]
  },
  {
   "cell_type": "code",
   "execution_count": 13,
   "metadata": {},
   "outputs": [
    {
     "data": {
      "text/plain": [
       "array([[0.1, 0.2],\n",
       "       [0.3, 0.4],\n",
       "       [0.5, 0.6],\n",
       "       [0.7, 0.8]])"
      ]
     },
     "execution_count": 13,
     "metadata": {},
     "output_type": "execute_result"
    }
   ],
   "source": [
    "from numpy.linalg import pinv\n",
    "\n",
    "# define matrix\n",
    "A = array([\n",
    "[0.1, 0.2],\n",
    "[0.3, 0.4],\n",
    "[0.5, 0.6],\n",
    "[0.7, 0.8]])\n",
    "A"
   ]
  },
  {
   "cell_type": "code",
   "execution_count": 14,
   "metadata": {},
   "outputs": [
    {
     "data": {
      "text/plain": [
       "array([[-1.00000000e+01, -5.00000000e+00,  9.07607323e-15,\n",
       "         5.00000000e+00],\n",
       "       [ 8.50000000e+00,  4.50000000e+00,  5.00000000e-01,\n",
       "        -3.50000000e+00]])"
      ]
     },
     "execution_count": 14,
     "metadata": {},
     "output_type": "execute_result"
    }
   ],
   "source": [
    "# calculate pseudoinverse\n",
    "B = pinv(A)\n",
    "B"
   ]
  },
  {
   "cell_type": "markdown",
   "metadata": {},
   "source": [
    "Podemos calcular la matriz pseudoinversa manualmente a través de la descomposición en valores singulares y comparar los resultados con la función pinv(). Primero debemos calcular la descomposición en valores singulares. A continuación, debemos calcular el recíproco de cada valor en la matriz s. Luego, la matriz s se puede transformar en una matriz diagonal con una fila adicional de ceros para que sea rectangular. Finalmente, podemos calcular la pseudoinversa de los elementos. La implementación específica es:\n",
    "\n",
    "A<sup>+</sup> = V · D<sup>+</sup> · U<sup>T</sup>"
   ]
  },
  {
   "cell_type": "code",
   "execution_count": 15,
   "metadata": {},
   "outputs": [
    {
     "data": {
      "text/plain": [
       "array([1.42690955, 0.06268282])"
      ]
     },
     "execution_count": 15,
     "metadata": {},
     "output_type": "execute_result"
    }
   ],
   "source": [
    "# factorize\n",
    "U, s, VT = svd(A)\n",
    "s"
   ]
  },
  {
   "cell_type": "code",
   "execution_count": 16,
   "metadata": {},
   "outputs": [
    {
     "data": {
      "text/plain": [
       "array([ 0.70081527, 15.95333376])"
      ]
     },
     "execution_count": 16,
     "metadata": {},
     "output_type": "execute_result"
    }
   ],
   "source": [
    "# reciprocals of s\n",
    "d = 1.0 / s\n",
    "d"
   ]
  },
  {
   "cell_type": "code",
   "execution_count": 17,
   "metadata": {},
   "outputs": [
    {
     "data": {
      "text/plain": [
       "array([[0., 0.],\n",
       "       [0., 0.],\n",
       "       [0., 0.],\n",
       "       [0., 0.]])"
      ]
     },
     "execution_count": 17,
     "metadata": {},
     "output_type": "execute_result"
    }
   ],
   "source": [
    "# create m x n D matrix\n",
    "D = zeros(A.shape)\n",
    "D"
   ]
  },
  {
   "cell_type": "code",
   "execution_count": 18,
   "metadata": {},
   "outputs": [
    {
     "data": {
      "text/plain": [
       "array([[ 0.70081527,  0.        ],\n",
       "       [ 0.        , 15.95333376],\n",
       "       [ 0.        ,  0.        ],\n",
       "       [ 0.        ,  0.        ]])"
      ]
     },
     "execution_count": 18,
     "metadata": {},
     "output_type": "execute_result"
    }
   ],
   "source": [
    "# populate D with n x n diagonal matrix\n",
    "D[:A.shape[1], :A.shape[1]] = diag(d)\n",
    "D"
   ]
  },
  {
   "cell_type": "code",
   "execution_count": 19,
   "metadata": {},
   "outputs": [
    {
     "data": {
      "text/plain": [
       "array([[-1.00000000e+01, -5.00000000e+00,  9.07607323e-15,\n",
       "         5.00000000e+00],\n",
       "       [ 8.50000000e+00,  4.50000000e+00,  5.00000000e-01,\n",
       "        -3.50000000e+00]])"
      ]
     },
     "execution_count": 19,
     "metadata": {},
     "output_type": "execute_result"
    }
   ],
   "source": [
    "# calculate pseudoinverse\n",
    "B = VT.T.dot(D.T).dot(U.T)\n",
    "B"
   ]
  },
  {
   "cell_type": "markdown",
   "metadata": {},
   "source": [
    "## Reducción de dimensionalidad (Dimensionality Reduction)\n",
    "\n",
    "Una aplicación popular de la descomposición en valores singulares es la reducción de dimensionalidad. Los datos con una gran cantidad de características (features), como más características (columnas) que observaciones (filas), se pueden reducir a un subconjunto más pequeño de características que son más relevantes para el problema de predicción. El resultado es una matriz con un rango inferior que se dice que se aproxima a la matriz original. Para hacer esto, podemos realizar una operación de descomposición en valores singulares en los datos originales y seleccionar los primeros k valores singulares más grandes en Σ. Estas columnas se pueden seleccionar desde Σ y las filas seleccionadas desde V<sup>T</sup>. Luego se puede reconstruir una B aproximada del vector A original.\n",
    "\n",
    "B = U · Σ<sub>k</sub> · V<sup>T</sup><sub>k</sub>\n",
    "\n",
    "En el procesamiento del lenguaje natural, este enfoque se puede utilizar en matrices de ocurrencias de palabras o frecuencias de palabras en documentos y se denomina Análisis Semántico Latente o Indización Semántica Latente. En la práctica, podemos retener y trabajar con un subconjunto descriptivo de los datos llamados T. Este es un resumen denso de la matriz o una proyección.\n",
    "\n",
    "T = U · Σ<sub>k</sub>\n",
    "\n",
    "Además, esta transformación se puede calcular y aplicar a la matriz original A así como a otras matrices similares.\n",
    "\n",
    "T = A · V<sup>T</sup><sub>k</sub>\n",
    "\n",
    "El siguiente ejemplo demuestra la reducción de datos con descomposición de valores singulares. Primero se define una matriz 3 × 10, con más columnas que filas. La descomposición en valores singulares se calcula y solo se seleccionan las dos primeras características. Los elementos se recombinan para dar una reproducción precisa de la matriz original. Finalmente, la transformación se calcula de dos formas diferentes."
   ]
  },
  {
   "cell_type": "code",
   "execution_count": 20,
   "metadata": {},
   "outputs": [
    {
     "data": {
      "text/plain": [
       "array([[ 1,  2,  3,  4,  5,  6,  7,  8,  9, 10],\n",
       "       [11, 12, 13, 14, 15, 16, 17, 18, 19, 20],\n",
       "       [21, 22, 23, 24, 25, 26, 27, 28, 29, 30]])"
      ]
     },
     "execution_count": 20,
     "metadata": {},
     "output_type": "execute_result"
    }
   ],
   "source": [
    "# define matrix\n",
    "A = array([\n",
    "[1,2,3,4,5,6,7,8,9,10],\n",
    "[11,12,13,14,15,16,17,18,19,20],\n",
    "[21,22,23,24,25,26,27,28,29,30]])\n",
    "A"
   ]
  },
  {
   "cell_type": "code",
   "execution_count": 21,
   "metadata": {},
   "outputs": [
    {
     "data": {
      "text/plain": [
       "array([9.69657342e+01, 7.25578339e+00, 5.82172067e-15])"
      ]
     },
     "execution_count": 21,
     "metadata": {},
     "output_type": "execute_result"
    }
   ],
   "source": [
    "# factorize\n",
    "U, s, VT = svd(A)\n",
    "\n",
    "# create m x n Sigma matrix\n",
    "Sigma = zeros((A.shape[0], A.shape[1]))\n",
    "s"
   ]
  },
  {
   "cell_type": "code",
   "execution_count": 22,
   "metadata": {},
   "outputs": [
    {
     "data": {
      "text/plain": [
       "array([[9.69657342e+01, 0.00000000e+00, 0.00000000e+00, 0.00000000e+00,\n",
       "        0.00000000e+00, 0.00000000e+00, 0.00000000e+00, 0.00000000e+00,\n",
       "        0.00000000e+00, 0.00000000e+00],\n",
       "       [0.00000000e+00, 7.25578339e+00, 0.00000000e+00, 0.00000000e+00,\n",
       "        0.00000000e+00, 0.00000000e+00, 0.00000000e+00, 0.00000000e+00,\n",
       "        0.00000000e+00, 0.00000000e+00],\n",
       "       [0.00000000e+00, 0.00000000e+00, 5.82172067e-15, 0.00000000e+00,\n",
       "        0.00000000e+00, 0.00000000e+00, 0.00000000e+00, 0.00000000e+00,\n",
       "        0.00000000e+00, 0.00000000e+00]])"
      ]
     },
     "execution_count": 22,
     "metadata": {},
     "output_type": "execute_result"
    }
   ],
   "source": [
    "# populate Sigma with n x n diagonal matrix\n",
    "Sigma[:A.shape[0], :A.shape[0]] = diag(s)\n",
    "Sigma"
   ]
  },
  {
   "cell_type": "code",
   "execution_count": 23,
   "metadata": {},
   "outputs": [],
   "source": [
    "# select\n",
    "n_elements = 2\n",
    "Sigma = Sigma[:, :n_elements]\n",
    "VT = VT[:n_elements, :]"
   ]
  },
  {
   "cell_type": "code",
   "execution_count": 24,
   "metadata": {},
   "outputs": [
    {
     "data": {
      "text/plain": [
       "array([[96.96573419,  0.        ],\n",
       "       [ 0.        ,  7.25578339],\n",
       "       [ 0.        ,  0.        ]])"
      ]
     },
     "execution_count": 24,
     "metadata": {},
     "output_type": "execute_result"
    }
   ],
   "source": [
    "Sigma"
   ]
  },
  {
   "cell_type": "code",
   "execution_count": 25,
   "metadata": {},
   "outputs": [
    {
     "data": {
      "text/plain": [
       "array([[-0.24139304, -0.25728686, -0.27318068, -0.2890745 , -0.30496832,\n",
       "        -0.32086214, -0.33675595, -0.35264977, -0.36854359, -0.38443741],\n",
       "       [-0.53589546, -0.42695236, -0.31800926, -0.20906617, -0.10012307,\n",
       "         0.00882003,  0.11776313,  0.22670623,  0.33564933,  0.44459242]])"
      ]
     },
     "execution_count": 25,
     "metadata": {},
     "output_type": "execute_result"
    }
   ],
   "source": [
    "VT"
   ]
  },
  {
   "cell_type": "code",
   "execution_count": 26,
   "metadata": {},
   "outputs": [
    {
     "data": {
      "text/plain": [
       "array([[-0.19101157,  0.89266338,  0.40824829],\n",
       "       [-0.51371859,  0.26348917, -0.81649658],\n",
       "       [-0.8364256 , -0.36568503,  0.40824829]])"
      ]
     },
     "execution_count": 26,
     "metadata": {},
     "output_type": "execute_result"
    }
   ],
   "source": [
    "U"
   ]
  },
  {
   "cell_type": "code",
   "execution_count": 27,
   "metadata": {},
   "outputs": [
    {
     "data": {
      "text/plain": [
       "array([[ 1.,  2.,  3.,  4.,  5.,  6.,  7.,  8.,  9., 10.],\n",
       "       [11., 12., 13., 14., 15., 16., 17., 18., 19., 20.],\n",
       "       [21., 22., 23., 24., 25., 26., 27., 28., 29., 30.]])"
      ]
     },
     "execution_count": 27,
     "metadata": {},
     "output_type": "execute_result"
    }
   ],
   "source": [
    "# reconstruct B = U · Σ · VT\n",
    "B = U.dot(Sigma).dot(VT)\n",
    "B"
   ]
  },
  {
   "cell_type": "code",
   "execution_count": 28,
   "metadata": {},
   "outputs": [
    {
     "data": {
      "text/plain": [
       "array([[-18.52157747,   6.47697214],\n",
       "       [-49.81310011,   1.91182038],\n",
       "       [-81.10462276,  -2.65333138]])"
      ]
     },
     "execution_count": 28,
     "metadata": {},
     "output_type": "execute_result"
    }
   ],
   "source": [
    "# transform T = U · Σ\n",
    "T = U.dot(Sigma)\n",
    "T"
   ]
  },
  {
   "cell_type": "code",
   "execution_count": 29,
   "metadata": {},
   "outputs": [
    {
     "data": {
      "text/plain": [
       "array([[-18.52157747,   6.47697214],\n",
       "       [-49.81310011,   1.91182038],\n",
       "       [-81.10462276,  -2.65333138]])"
      ]
     },
     "execution_count": 29,
     "metadata": {},
     "output_type": "execute_result"
    }
   ],
   "source": [
    "# T = A · (VT)T\n",
    "T = A.dot(VT.T)\n",
    "T"
   ]
  },
  {
   "cell_type": "markdown",
   "metadata": {},
   "source": [
    "scikit-learn proporciona una clase TruncatedSVD que implementa esta funcionalidad directamente. Se puede crear la clase TruncatedSVD en la que se debe especificar el número de características deseables, ej. 2. Una vez creado, se puede ajustar la transformación (por ejemplo, calcular V<sup>T</sup><sub>k</sub>) llamando a la función fit() y luego aplicarla a la matriz original llamando a la función transform(). El resultado es la transformación de A llamada T arriba. El ejemplo siguiente muestra la clase TruncatedSVD."
   ]
  },
  {
   "cell_type": "code",
   "execution_count": 30,
   "metadata": {},
   "outputs": [
    {
     "data": {
      "text/plain": [
       "array([[ 1,  2,  3,  4,  5,  6,  7,  8,  9, 10],\n",
       "       [11, 12, 13, 14, 15, 16, 17, 18, 19, 20],\n",
       "       [21, 22, 23, 24, 25, 26, 27, 28, 29, 30]])"
      ]
     },
     "execution_count": 30,
     "metadata": {},
     "output_type": "execute_result"
    }
   ],
   "source": [
    "# svd data reduction in scikit-learn\n",
    "from sklearn.decomposition import TruncatedSVD\n",
    "\n",
    "A"
   ]
  },
  {
   "cell_type": "code",
   "execution_count": 31,
   "metadata": {},
   "outputs": [
    {
     "data": {
      "text/plain": [
       "TruncatedSVD(algorithm='randomized', n_components=2, n_iter=5,\n",
       "       random_state=None, tol=0.0)"
      ]
     },
     "execution_count": 31,
     "metadata": {},
     "output_type": "execute_result"
    }
   ],
   "source": [
    "# create transform\n",
    "svd = TruncatedSVD(n_components=2)\n",
    "svd"
   ]
  },
  {
   "cell_type": "code",
   "execution_count": 32,
   "metadata": {},
   "outputs": [
    {
     "data": {
      "text/plain": [
       "array([[18.52157747,  6.47697214],\n",
       "       [49.81310011,  1.91182038],\n",
       "       [81.10462276, -2.65333138]])"
      ]
     },
     "execution_count": 32,
     "metadata": {},
     "output_type": "execute_result"
    }
   ],
   "source": [
    "# fit transform\n",
    "svd.fit(A)\n",
    "\n",
    "# apply transform\n",
    "result = svd.transform(A)\n",
    "result"
   ]
  },
  {
   "cell_type": "markdown",
   "metadata": {},
   "source": [
    "Podemos ver que los valores coinciden con los calculados manualmente arriba, a excepción del signo en algunos valores. Podemos esperar cierta inestabilidad en lo que respecta al signo, dada la naturaleza de los cálculos involucrados y las diferencias en las bibliotecas subyacentes y los métodos utilizados. Esta inestabilidad del signo no debería ser un problema en la práctica, siempre que la transformación esté entrenada para su reutilización."
   ]
  }
 ],
 "metadata": {
  "kernelspec": {
   "display_name": "Python 3",
   "language": "python",
   "name": "python3"
  },
  "language_info": {
   "codemirror_mode": {
    "name": "ipython",
    "version": 3
   },
   "file_extension": ".py",
   "mimetype": "text/x-python",
   "name": "python",
   "nbconvert_exporter": "python",
   "pygments_lexer": "ipython3",
   "version": "3.6.5"
  }
 },
 "nbformat": 4,
 "nbformat_minor": 2
}
