{
 "cells": [
  {
   "cell_type": "markdown",
   "metadata": {},
   "source": [
    "# Capítulo 17. Introducción a la estadistica multivariable\n",
    "\n",
    "## Valor esperado y media\n",
    "\n",
    "Se puede usar la funcion mean() de NumPy, acepta un segundo parámetro donde se puede definir el eje de la media."
   ]
  },
  {
   "cell_type": "code",
   "execution_count": 1,
   "metadata": {},
   "outputs": [
    {
     "data": {
      "text/plain": [
       "3.5"
      ]
     },
     "execution_count": 1,
     "metadata": {},
     "output_type": "execute_result"
    }
   ],
   "source": [
    "# vector mean\n",
    "from numpy import array\n",
    "from numpy import mean\n",
    "\n",
    "# define vector\n",
    "v = array([1,2,3,4,5,6])\n",
    "\n",
    "# calculate mean\n",
    "result = mean(v)\n",
    "result"
   ]
  },
  {
   "cell_type": "code",
   "execution_count": 2,
   "metadata": {},
   "outputs": [
    {
     "data": {
      "text/plain": [
       "array([1., 2., 3., 4., 5., 6.])"
      ]
     },
     "execution_count": 2,
     "metadata": {},
     "output_type": "execute_result"
    }
   ],
   "source": [
    "# define matrix\n",
    "M = array([\n",
    "[1,2,3,4,5,6],\n",
    "[1,2,3,4,5,6]])\n",
    "\n",
    "# column means\n",
    "col_mean = mean(M, axis=0)\n",
    "col_mean"
   ]
  },
  {
   "cell_type": "code",
   "execution_count": 3,
   "metadata": {},
   "outputs": [
    {
     "data": {
      "text/plain": [
       "array([3.5, 3.5])"
      ]
     },
     "execution_count": 3,
     "metadata": {},
     "output_type": "execute_result"
    }
   ],
   "source": [
    "# row means\n",
    "row_mean = mean(M, axis=1)\n",
    "row_mean"
   ]
  },
  {
   "cell_type": "markdown",
   "metadata": {},
   "source": [
    "## Varianza y desviación estándar\n",
    "\n",
    "En probabilidad, la varianza de alguna variable aleatoria X es una medida de la cantidad de valores en la distribución varían en promedio con respecto a la media. La varianza se denota como la función var() de NumPy.\n",
    "\n",
    "Por defecto Numpy calcula la varianza de población (population variance), para muesta de varianza (sample variance), deberemos establecer el argumento ddof a 1. Al igual que la función mean() puede calcular la varianza por ejes."
   ]
  },
  {
   "cell_type": "code",
   "execution_count": 4,
   "metadata": {},
   "outputs": [
    {
     "data": {
      "text/plain": [
       "3.5"
      ]
     },
     "execution_count": 4,
     "metadata": {},
     "output_type": "execute_result"
    }
   ],
   "source": [
    "# vector variance\n",
    "from numpy import var\n",
    "\n",
    "# calculate variance\n",
    "result = var(v, ddof=1)\n",
    "result"
   ]
  },
  {
   "cell_type": "code",
   "execution_count": 5,
   "metadata": {},
   "outputs": [
    {
     "data": {
      "text/plain": [
       "array([0., 0., 0., 0., 0., 0.])"
      ]
     },
     "execution_count": 5,
     "metadata": {},
     "output_type": "execute_result"
    }
   ],
   "source": [
    "# column variances\n",
    "col_var = var(M, ddof=1, axis=0)\n",
    "col_var"
   ]
  },
  {
   "cell_type": "code",
   "execution_count": 6,
   "metadata": {},
   "outputs": [],
   "source": [
    "# row variances\n",
    "row_var = var(M, ddof=1, axis=1)"
   ]
  },
  {
   "cell_type": "markdown",
   "metadata": {},
   "source": [
    "La desviación estándar se calcula usando la raiz cuadrada de la varianza. Al igual que la función var() se debe establecer el argumento ddof a 1 y se puede definir el eje que se desea calcular."
   ]
  },
  {
   "cell_type": "code",
   "execution_count": 7,
   "metadata": {},
   "outputs": [
    {
     "data": {
      "text/plain": [
       "array([0., 0., 0., 0., 0., 0.])"
      ]
     },
     "execution_count": 7,
     "metadata": {},
     "output_type": "execute_result"
    }
   ],
   "source": [
    "from numpy import std\n",
    "\n",
    "# column standard deviations\n",
    "col_std = std(M, ddof=1, axis=0)\n",
    "col_std"
   ]
  },
  {
   "cell_type": "code",
   "execution_count": 8,
   "metadata": {},
   "outputs": [
    {
     "data": {
      "text/plain": [
       "array([1.87082869, 1.87082869])"
      ]
     },
     "execution_count": 8,
     "metadata": {},
     "output_type": "execute_result"
    }
   ],
   "source": [
    "# row standard deviations\n",
    "row_std = std(M, ddof=1, axis=1)\n",
    "row_std"
   ]
  },
  {
   "cell_type": "markdown",
   "metadata": {},
   "source": [
    "## Covarianza y correlación\n",
    "\n",
    "En probabilidad, la covarianza es la medida de la probabilidad conjunta para dos variables aleatorias. Describe cómo las dos variables cambian juntas. Se denota como la función cov(X, Y), donde X e Y son las dos variables aleatorias que se consideran.\n",
    "\n",
    "El signo de la covarianza se puede interpretar como si las dos variables aumentan juntas (positivas) o disminuyen juntas (negativas). La magnitud de la covarianza no se interpreta fácilmente. Un valor de covarianza de cero indica que ambas variables son completamente independientes.\n",
    "\n",
    "NumPy no tiene una función para calcular la covarianza entre dos variables directamente.\n",
    "\n",
    "En cambio, tiene una función para calcular una matriz de covarianza llamada cov() que podemos usar para recuperar la covarianza. Por defecto, la función cov() calculará la covarianza imparcial o de muestra entre las variables aleatorias proporcionadas.\n",
    "El siguiente ejemplo define dos vectores de igual longitud, uno creciente y uno decreciente.\n",
    "\n",
    "Es de esperar que la covarianza entre estas variables sea negativa."
   ]
  },
  {
   "cell_type": "code",
   "execution_count": 9,
   "metadata": {},
   "outputs": [
    {
     "data": {
      "text/plain": [
       "array([[ 7.5, -7.5],\n",
       "       [-7.5,  7.5]])"
      ]
     },
     "execution_count": 9,
     "metadata": {},
     "output_type": "execute_result"
    }
   ],
   "source": [
    "# vector covariance\n",
    "from numpy import cov\n",
    "\n",
    "# define first vector\n",
    "x = array([1,2,3,4,5,6,7,8,9])\n",
    "\n",
    "# define second covariance\n",
    "y = array([9,8,7,6,5,4,3,2,1])\n",
    "\n",
    "# calculate covariance\n",
    "Sigma = cov(x,y)\n",
    "Sigma"
   ]
  },
  {
   "cell_type": "markdown",
   "metadata": {},
   "source": [
    "### Coeficiente de correlación de Pearson\n",
    "\n",
    "La covarianza se puede normalizar en una puntuación de entre -1 y 1 para hacer la magnitud interpretable dividiéndola por la desviación estándar de X e Y. El resultado se llama correlación de las variables, también llamado coeficiente de correlación de Pearson, nombrado para el desarrollador del método.\n",
    "\n",
    "NumPy proporciona la función corrcoef() para calcular la correlación entre dos variables directamente. Al igual que cov(), devuelve una matriz, en este caso una matriz de correlación."
   ]
  },
  {
   "cell_type": "code",
   "execution_count": 10,
   "metadata": {},
   "outputs": [
    {
     "data": {
      "text/plain": [
       "array([[ 1., -1.],\n",
       "       [-1.,  1.]])"
      ]
     },
     "execution_count": 10,
     "metadata": {},
     "output_type": "execute_result"
    }
   ],
   "source": [
    "# vector correlation\n",
    "from numpy import corrcoef\n",
    "\n",
    "# calculate correlation\n",
    "corr = corrcoef(x,y)\n",
    "corr"
   ]
  },
  {
   "cell_type": "markdown",
   "metadata": {},
   "source": [
    "## Matriz de covarianza\n",
    "\n",
    "La matriz de covarianza es una matriz cuadrada y simétrica que describe la covarianza entre dos o más variables aleatorias. La diagonal de la matriz de covarianza son las varianzas de cada una de las variables aleatorias, como tal a menudo se denomina matriz de varianza-covarianza. Una matriz de covarianza es una generalización de la covarianza de dos variables y captura la forma en que todas las variables en el conjunto de datos pueden cambiar juntas. La matriz de covarianza se denota como la letra griega mayúscula Sigma, p. Σ.\n",
    "\n",
    "La matriz de covarianza proporciona una herramienta útil para separar las relaciones estructuradas en una matriz de variables aleatorias. Esto puede usarse para descorrelacionar variables o aplicarse como una transformación a otras variables. Es un elemento clave utilizado en el método de reducción de datos del Análisis de componentes principales, o PCA para abreviar.\n",
    "\n",
    "La matriz de covarianza se puede calcular en NumPy usando la función cov(). Por defecto, esta función calculará la matriz de covarianza de la muestra. La función cov() se puede invocar con una única matriz 2D donde cada sub-array contiene una característica (por ejemplo, una columna). Si se llama a esta función con los datos definidos en un formato de matriz normal (filas y columnas), se deberá proporcionar una trasposición de la matriz para la función para calcular correctamente la covarianza de las columnas.\n",
    "\n",
    "A continuación se muestra un ejemplo que define un conjunto de datos con 5 observaciones a través de 3 características y calcula la matriz de covarianza."
   ]
  },
  {
   "cell_type": "code",
   "execution_count": 11,
   "metadata": {},
   "outputs": [
    {
     "data": {
      "text/plain": [
       "array([[ 1,  3,  2,  3,  1],\n",
       "       [ 5,  5,  4,  6,  5],\n",
       "       [ 8, 11,  9, 10, 10]])"
      ]
     },
     "execution_count": 11,
     "metadata": {},
     "output_type": "execute_result"
    }
   ],
   "source": [
    "# define matrix of observations\n",
    "X = array([\n",
    "[1, 5, 8],\n",
    "[3, 5, 11],\n",
    "[2, 4, 9],\n",
    "[3, 6, 10],\n",
    "[1, 5, 10]])\n",
    "\n",
    "X.T"
   ]
  },
  {
   "cell_type": "code",
   "execution_count": 12,
   "metadata": {},
   "outputs": [
    {
     "data": {
      "text/plain": [
       "array([[1.  , 0.25, 0.75],\n",
       "       [0.25, 0.5 , 0.25],\n",
       "       [0.75, 0.25, 1.3 ]])"
      ]
     },
     "execution_count": 12,
     "metadata": {},
     "output_type": "execute_result"
    }
   ],
   "source": [
    "# calculate covariance matrix\n",
    "Sigma = cov(X.T)\n",
    "Sigma"
   ]
  }
 ],
 "metadata": {
  "kernelspec": {
   "display_name": "Python 3",
   "language": "python",
   "name": "python3"
  },
  "language_info": {
   "codemirror_mode": {
    "name": "ipython",
    "version": 3
   },
   "file_extension": ".py",
   "mimetype": "text/x-python",
   "name": "python",
   "nbconvert_exporter": "python",
   "pygments_lexer": "ipython3",
   "version": "3.6.5"
  }
 },
 "nbformat": 4,
 "nbformat_minor": 2
}
