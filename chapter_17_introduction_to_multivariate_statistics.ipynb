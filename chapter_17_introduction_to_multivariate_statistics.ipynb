{
 "cells": [
  {
   "cell_type": "markdown",
   "metadata": {},
   "source": [
    "# Capítulo 17. Introducción a la estadistica multivariable\n",
    "\n",
    "## Valor esperado y media\n",
    "\n",
    "Se puede usar la funcion mean() de NumPy, acepta un segundo parámetro donde se puede definir el eje de la media."
   ]
  },
  {
   "cell_type": "code",
   "execution_count": 1,
   "metadata": {},
   "outputs": [
    {
     "data": {
      "text/plain": [
       "3.5"
      ]
     },
     "execution_count": 1,
     "metadata": {},
     "output_type": "execute_result"
    }
   ],
   "source": [
    "# vector mean\n",
    "from numpy import array\n",
    "from numpy import mean\n",
    "\n",
    "# define vector\n",
    "v = array([1,2,3,4,5,6])\n",
    "\n",
    "# calculate mean\n",
    "result = mean(v)\n",
    "result"
   ]
  },
  {
   "cell_type": "code",
   "execution_count": 2,
   "metadata": {},
   "outputs": [
    {
     "data": {
      "text/plain": [
       "array([1., 2., 3., 4., 5., 6.])"
      ]
     },
     "execution_count": 2,
     "metadata": {},
     "output_type": "execute_result"
    }
   ],
   "source": [
    "# define matrix\n",
    "M = array([\n",
    "[1,2,3,4,5,6],\n",
    "[1,2,3,4,5,6]])\n",
    "\n",
    "# column means\n",
    "col_mean = mean(M, axis=0)\n",
    "col_mean"
   ]
  },
  {
   "cell_type": "code",
   "execution_count": 3,
   "metadata": {},
   "outputs": [
    {
     "data": {
      "text/plain": [
       "array([3.5, 3.5])"
      ]
     },
     "execution_count": 3,
     "metadata": {},
     "output_type": "execute_result"
    }
   ],
   "source": [
    "# row means\n",
    "row_mean = mean(M, axis=1)\n",
    "row_mean"
   ]
  },
  {
   "cell_type": "markdown",
   "metadata": {},
   "source": [
    "## Varianza y desviación estándar\n",
    "\n",
    "En probabilidad, la varianza de alguna variable aleatoria X es una medida de la cantidad de valores en la distribución varían en promedio con respecto a la media. La varianza se denota como la función var() de NumPy.\n",
    "\n",
    "Por defecto Numpy calcula la varianza de población (population variance), para muesta de varianza (sample variance), deberemos establecer el argumento ddof a 1. Al igual que la función mean() puede calcular la varianza por ejes."
   ]
  },
  {
   "cell_type": "code",
   "execution_count": 4,
   "metadata": {},
   "outputs": [
    {
     "data": {
      "text/plain": [
       "3.5"
      ]
     },
     "execution_count": 4,
     "metadata": {},
     "output_type": "execute_result"
    }
   ],
   "source": [
    "# vector variance\n",
    "from numpy import var\n",
    "\n",
    "# calculate variance\n",
    "result = var(v, ddof=1)\n",
    "result"
   ]
  },
  {
   "cell_type": "code",
   "execution_count": 5,
   "metadata": {},
   "outputs": [
    {
     "data": {
      "text/plain": [
       "array([0., 0., 0., 0., 0., 0.])"
      ]
     },
     "execution_count": 5,
     "metadata": {},
     "output_type": "execute_result"
    }
   ],
   "source": [
    "# column variances\n",
    "col_var = var(M, ddof=1, axis=0)\n",
    "col_var"
   ]
  },
  {
   "cell_type": "code",
   "execution_count": 6,
   "metadata": {},
   "outputs": [],
   "source": [
    "# row variances\n",
    "row_var = var(M, ddof=1, axis=1)"
   ]
  },
  {
   "cell_type": "markdown",
   "metadata": {},
   "source": [
    "La desviación estándar se calcula usando la raiz cuadrada de la varianza. Al igual que la función var() se debe establecer el argumento ddof a 1 y se puede definir el eje que se desea calcular."
   ]
  },
  {
   "cell_type": "code",
   "execution_count": 7,
   "metadata": {},
   "outputs": [
    {
     "data": {
      "text/plain": [
       "array([0., 0., 0., 0., 0., 0.])"
      ]
     },
     "execution_count": 7,
     "metadata": {},
     "output_type": "execute_result"
    }
   ],
   "source": [
    "from numpy import std\n",
    "\n",
    "# column standard deviations\n",
    "col_std = std(M, ddof=1, axis=0)\n",
    "col_std"
   ]
  },
  {
   "cell_type": "code",
   "execution_count": 8,
   "metadata": {},
   "outputs": [
    {
     "data": {
      "text/plain": [
       "array([1.87082869, 1.87082869])"
      ]
     },
     "execution_count": 8,
     "metadata": {},
     "output_type": "execute_result"
    }
   ],
   "source": [
    "# row standard deviations\n",
    "row_std = std(M, ddof=1, axis=1)\n",
    "row_std"
   ]
  }
 ],
 "metadata": {
  "kernelspec": {
   "display_name": "Python 3",
   "language": "python",
   "name": "python3"
  },
  "language_info": {
   "codemirror_mode": {
    "name": "ipython",
    "version": 3
   },
   "file_extension": ".py",
   "mimetype": "text/x-python",
   "name": "python",
   "nbconvert_exporter": "python",
   "pygments_lexer": "ipython3",
   "version": "3.6.5"
  }
 },
 "nbformat": 4,
 "nbformat_minor": 2
}
