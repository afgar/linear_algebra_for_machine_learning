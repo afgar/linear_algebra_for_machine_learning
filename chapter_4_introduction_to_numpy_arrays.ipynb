{
 "cells": [
  {
   "cell_type": "markdown",
   "metadata": {},
   "source": [
    "# Capítulo 4. Introducción a los arrays NumPy\n",
    "\n",
    "Los arrays son la principal estructura de datos en el aprendizaje automático. Python tiene una librería para trabajar con arrays de manera eficiente llamada NumPy. Su principal estructura de datos es el `ndarray` que sirve para crear arrays multidimensionales. Es un array con un tamaño fijo en memoria y de un solo tipo."
   ]
  },
  {
   "cell_type": "code",
   "execution_count": 1,
   "metadata": {},
   "outputs": [
    {
     "data": {
      "text/plain": [
       "array([1., 2., 3.])"
      ]
     },
     "execution_count": 1,
     "metadata": {},
     "output_type": "execute_result"
    }
   ],
   "source": [
    "# array es la principal estructura de datos con la que se trabaja en numpy\n",
    "from numpy import array\n",
    "\n",
    "# crea un numpy array desde una lista python\n",
    "a = array([1.0, 2.0, 3.0])\n",
    "a"
   ]
  },
  {
   "cell_type": "code",
   "execution_count": 2,
   "metadata": {},
   "outputs": [
    {
     "data": {
      "text/plain": [
       "(3,)"
      ]
     },
     "execution_count": 2,
     "metadata": {},
     "output_type": "execute_result"
    }
   ],
   "source": [
    "# muestra la dimensión del array\n",
    "a.shape"
   ]
  },
  {
   "cell_type": "code",
   "execution_count": 3,
   "metadata": {},
   "outputs": [
    {
     "data": {
      "text/plain": [
       "dtype('float64')"
      ]
     },
     "execution_count": 3,
     "metadata": {},
     "output_type": "execute_result"
    }
   ],
   "source": [
    "# muestra el tipo de dato que contienen los elementos del array\n",
    "a.dtype"
   ]
  },
  {
   "cell_type": "markdown",
   "metadata": {},
   "source": [
    "## Funciones para crear arrays y matrices\n",
    "\n",
    "Numpy contiene funciones de utilidad para crear arrays y matrices dadas unas dimensiones."
   ]
  },
  {
   "cell_type": "code",
   "execution_count": 4,
   "metadata": {},
   "outputs": [
    {
     "data": {
      "text/plain": [
       "array([[4.44389806e+252, 2.32159998e-152, 2.66064968e-260],\n",
       "       [1.27661731e-152, 6.01334659e-154, 4.47593816e-091],\n",
       "       [2.12701067e+233, 9.08697697e+223, 1.03819321e-028]])"
      ]
     },
     "execution_count": 4,
     "metadata": {},
     "output_type": "execute_result"
    }
   ],
   "source": [
    "# función para crear arrays vacios\n",
    "from numpy import empty\n",
    "\n",
    "# crea una matriz de 3 x 3 con elementos aleatorios a partir de las dimensiones que se le pasan como parametro\n",
    "a = empty([3,3])\n",
    "a"
   ]
  },
  {
   "cell_type": "code",
   "execution_count": 5,
   "metadata": {},
   "outputs": [
    {
     "data": {
      "text/plain": [
       "array([[0., 0., 0., 0., 0.],\n",
       "       [0., 0., 0., 0., 0.],\n",
       "       [0., 0., 0., 0., 0.]])"
      ]
     },
     "execution_count": 5,
     "metadata": {},
     "output_type": "execute_result"
    }
   ],
   "source": [
    "# funcion para crear arrays de 0s\n",
    "from numpy import zeros\n",
    "\n",
    "# crea una matriz de 3 x 5 de 0s a partir de las dimensiones que se le pasan como parametro\n",
    "a = zeros([3,5])\n",
    "a"
   ]
  },
  {
   "cell_type": "code",
   "execution_count": 6,
   "metadata": {},
   "outputs": [
    {
     "data": {
      "text/plain": [
       "array([1., 1., 1., 1., 1.])"
      ]
     },
     "execution_count": 6,
     "metadata": {},
     "output_type": "execute_result"
    }
   ],
   "source": [
    "# funcion para crear arrays de 1s\n",
    "from numpy import ones\n",
    "\n",
    "# crea un vector de 5 elementos de 1s\n",
    "a = ones([5])\n",
    "a"
   ]
  },
  {
   "cell_type": "markdown",
   "metadata": {},
   "source": [
    "## Apilar arrays vertical y horizontalmente\n",
    "\n",
    "Numpy también contiene funciones de utilidad para crear arrays desde arrays existentes."
   ]
  },
  {
   "cell_type": "code",
   "execution_count": 7,
   "metadata": {},
   "outputs": [],
   "source": [
    "# function para apilar verticalmente\n",
    "from numpy import vstack\n",
    "# funcion para apilar horizontalmente\n",
    "from numpy import hstack\n",
    "\n",
    "a1 = array([1,2,3])\n",
    "a2 = array([4,5,6])"
   ]
  },
  {
   "cell_type": "code",
   "execution_count": 8,
   "metadata": {},
   "outputs": [
    {
     "data": {
      "text/plain": [
       "array([[1, 2, 3],\n",
       "       [4, 5, 6]])"
      ]
     },
     "execution_count": 8,
     "metadata": {},
     "output_type": "execute_result"
    }
   ],
   "source": [
    "# apila los arrays verticalmente creanto una matriz de 2 x 3\n",
    "a3 = vstack((a1, a2))\n",
    "a3"
   ]
  },
  {
   "cell_type": "code",
   "execution_count": 9,
   "metadata": {},
   "outputs": [
    {
     "data": {
      "text/plain": [
       "(2, 3)"
      ]
     },
     "execution_count": 9,
     "metadata": {},
     "output_type": "execute_result"
    }
   ],
   "source": [
    "# dimensión del array\n",
    "a3.shape"
   ]
  },
  {
   "cell_type": "code",
   "execution_count": 10,
   "metadata": {},
   "outputs": [
    {
     "data": {
      "text/plain": [
       "array([1, 2, 3, 4, 5, 6])"
      ]
     },
     "execution_count": 10,
     "metadata": {},
     "output_type": "execute_result"
    }
   ],
   "source": [
    "# apila los arrays horizontalmente creando un vector de los arrays \n",
    "a3 = hstack((a1, a2))\n",
    "a3"
   ]
  },
  {
   "cell_type": "code",
   "execution_count": 11,
   "metadata": {},
   "outputs": [
    {
     "data": {
      "text/plain": [
       "(6,)"
      ]
     },
     "execution_count": 11,
     "metadata": {},
     "output_type": "execute_result"
    }
   ],
   "source": [
    "# dimensión del array\n",
    "a3.shape"
   ]
  }
 ],
 "metadata": {
  "kernelspec": {
   "display_name": "Python 3",
   "language": "python",
   "name": "python3"
  },
  "language_info": {
   "codemirror_mode": {
    "name": "ipython",
    "version": 3
   },
   "file_extension": ".py",
   "mimetype": "text/x-python",
   "name": "python",
   "nbconvert_exporter": "python",
   "pygments_lexer": "ipython3",
   "version": "3.6.5"
  }
 },
 "nbformat": 4,
 "nbformat_minor": 2
}
