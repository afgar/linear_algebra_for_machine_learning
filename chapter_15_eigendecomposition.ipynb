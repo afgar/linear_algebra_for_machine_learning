{
 "cells": [
  {
   "cell_type": "markdown",
   "metadata": {},
   "source": [
    "# Capítulo 15. Eigendecomposition (descomposición propia)\n",
    "\n",
    "La descomposición propia de una matriz (eigendecomposition) es un tipo de descomposición que implica descomponer una matriz cuadrada en un conjunto de vectores propios (eigenvectors) y valores propios (eigenvalues).\n",
    "\n",
    "Un vector es un vector propio cuando satisface: A · v = λ · v. A esta ecuacion se la llama ecuacion de valor propio (eigenvalue equation), donde A es la matriz cuadrada que estamos descomponiendo, v es el vector porpio de la matriz, y λ es el valor propio.\n",
    "\n",
    "Una matriz puede tener un vector propio y un valor propio para cada dimension. No todas las matrices se puedes descomponer en vectores y valores propios y algunas solo se pueden descomponer de manera que requieren numeros complejos. La matriz primaria puede mostrarse como un producto de vectores y valores propios. A = Q · Λ · Q <sup>−1</sup>. Donde Q es una matriz compuesta por los vectores propios, Λ (letra griega en mayúscula lambda) es la matriz diagonal compuesta por los valores propios, y Q <sup>-1</sup> es la inversa de la matriz compuesta por los vectores propios.\n",
    "\n",
    "La descomposición propia (eigendecomposition) puede ser usada para calcular los componentes principales de una matriz en el Análisis de Componentes Principales (Principal Component Analisys, PCA) que puede ser usado para reducir la dimensionalidad de los datos en el aprendizaje automático. Ciertas calculos de matrices, como calcular la potencia de una matriz se facilitan mucho cuando usamos la descomposicion propia de una matriz.\n",
    "\n",
    "## Vectores y valores propios (Eigenvectors y Eigenvalies)\n",
    "\n",
    "Los vectores propios son vectores unitarios, lo que significa que su longitud o magnitud es igual a 1.0. A menudo se los denomina vectores derechos, lo que simplemente significa un vector de columna (a diferencia de un vector de fila o un vector izquierdo). Los valores propios son coeficientes aplicados a vectores propios que dan a los vectores su longitud o magnitud. Por ejemplo, un valor propio negativo puede invertir la dirección del vector propio y tambien escalarlo. \n",
    "\n",
    "## Cálculo de la descomposición propia"
   ]
  },
  {
   "cell_type": "code",
   "execution_count": 1,
   "metadata": {},
   "outputs": [
    {
     "data": {
      "text/plain": [
       "array([[1, 2, 3],\n",
       "       [4, 5, 6],\n",
       "       [7, 8, 9]])"
      ]
     },
     "execution_count": 1,
     "metadata": {},
     "output_type": "execute_result"
    }
   ],
   "source": [
    "# eigendecomposition\n",
    "from numpy import array\n",
    "from numpy.linalg import eig\n",
    "\n",
    "# define matrix\n",
    "A = array([\n",
    "[1, 2, 3],\n",
    "[4, 5, 6],\n",
    "[7, 8, 9]])\n",
    "\n",
    "A"
   ]
  },
  {
   "cell_type": "code",
   "execution_count": 2,
   "metadata": {},
   "outputs": [],
   "source": [
    "# factorize\n",
    "values, vectors = eig(A)"
   ]
  },
  {
   "cell_type": "code",
   "execution_count": 3,
   "metadata": {},
   "outputs": [
    {
     "data": {
      "text/plain": [
       "array([ 1.61168440e+01, -1.11684397e+00, -9.75918483e-16])"
      ]
     },
     "execution_count": 3,
     "metadata": {},
     "output_type": "execute_result"
    }
   ],
   "source": [
    "values"
   ]
  },
  {
   "cell_type": "code",
   "execution_count": 4,
   "metadata": {},
   "outputs": [
    {
     "data": {
      "text/plain": [
       "array([[-0.23197069, -0.78583024,  0.40824829],\n",
       "       [-0.52532209, -0.08675134, -0.81649658],\n",
       "       [-0.8186735 ,  0.61232756,  0.40824829]])"
      ]
     },
     "execution_count": 4,
     "metadata": {},
     "output_type": "execute_result"
    }
   ],
   "source": [
    "vectors"
   ]
  },
  {
   "cell_type": "markdown",
   "metadata": {},
   "source": [
    "## Confirmación de vectores y valores propios\n",
    "\n",
    "Un vector es un vector propio cuando satisface: A · v = λ · v"
   ]
  },
  {
   "cell_type": "code",
   "execution_count": 5,
   "metadata": {},
   "outputs": [
    {
     "data": {
      "text/plain": [
       "array([-0.23197069, -0.52532209, -0.8186735 ])"
      ]
     },
     "execution_count": 5,
     "metadata": {},
     "output_type": "execute_result"
    }
   ],
   "source": [
    "v = vectors[:, 0]\n",
    "v"
   ]
  },
  {
   "cell_type": "code",
   "execution_count": 6,
   "metadata": {},
   "outputs": [
    {
     "data": {
      "text/plain": [
       "array([ -3.73863537,  -8.46653421, -13.19443305])"
      ]
     },
     "execution_count": 6,
     "metadata": {},
     "output_type": "execute_result"
    }
   ],
   "source": [
    "# confirm first eigenvector\n",
    "B = A.dot(v)\n",
    "B"
   ]
  },
  {
   "cell_type": "code",
   "execution_count": 7,
   "metadata": {},
   "outputs": [
    {
     "data": {
      "text/plain": [
       "array([ -3.73863537,  -8.46653421, -13.19443305])"
      ]
     },
     "execution_count": 7,
     "metadata": {},
     "output_type": "execute_result"
    }
   ],
   "source": [
    "C = values[0] * v\n",
    "C"
   ]
  },
  {
   "cell_type": "markdown",
   "metadata": {},
   "source": [
    "## Reconstrución de la matriz\n",
    "\n",
    "Podemos revertir el proceso y reconstruir la matriz original con solo los vectores y los valores propios. Primero, la lista de vectores propios se debe tomar en conjunto como una matriz, donde cada vector se convierte en una fila. Los valores propios deben organizarse en una matriz diagonal. La función diag() se puede usar para esto. A continuación, debemos calcular la inversa de la matriz de vectores propios, que podemos lograr con la función inv(). Finalmente, estos elementos deben multiplicarse con la función dot(). A = Q · Λ · Q <sup>−1</sup>"
   ]
  },
  {
   "cell_type": "code",
   "execution_count": 8,
   "metadata": {},
   "outputs": [
    {
     "data": {
      "text/plain": [
       "array([[-0.23197069, -0.78583024,  0.40824829],\n",
       "       [-0.52532209, -0.08675134, -0.81649658],\n",
       "       [-0.8186735 ,  0.61232756,  0.40824829]])"
      ]
     },
     "execution_count": 8,
     "metadata": {},
     "output_type": "execute_result"
    }
   ],
   "source": [
    "# reconstruct matrix\n",
    "from numpy import diag\n",
    "from numpy.linalg import inv\n",
    "\n",
    "# create matrix from eigenvectors\n",
    "Q = vectors\n",
    "Q"
   ]
  },
  {
   "cell_type": "code",
   "execution_count": 9,
   "metadata": {},
   "outputs": [
    {
     "data": {
      "text/plain": [
       "array([[-0.48295226, -0.59340999, -0.70386772],\n",
       "       [-0.91788599, -0.24901003,  0.41986593],\n",
       "       [ 0.40824829, -0.81649658,  0.40824829]])"
      ]
     },
     "execution_count": 9,
     "metadata": {},
     "output_type": "execute_result"
    }
   ],
   "source": [
    "# create inverse of eigenvectors matrix\n",
    "R = inv(Q)\n",
    "R"
   ]
  },
  {
   "cell_type": "code",
   "execution_count": 10,
   "metadata": {},
   "outputs": [
    {
     "data": {
      "text/plain": [
       "array([[ 1.61168440e+01,  0.00000000e+00,  0.00000000e+00],\n",
       "       [ 0.00000000e+00, -1.11684397e+00,  0.00000000e+00],\n",
       "       [ 0.00000000e+00,  0.00000000e+00, -9.75918483e-16]])"
      ]
     },
     "execution_count": 10,
     "metadata": {},
     "output_type": "execute_result"
    }
   ],
   "source": [
    "# create diagonal matrix from eigenvalues\n",
    "L = diag(values)\n",
    "L"
   ]
  },
  {
   "cell_type": "code",
   "execution_count": 11,
   "metadata": {},
   "outputs": [
    {
     "data": {
      "text/plain": [
       "array([[1., 2., 3.],\n",
       "       [4., 5., 6.],\n",
       "       [7., 8., 9.]])"
      ]
     },
     "execution_count": 11,
     "metadata": {},
     "output_type": "execute_result"
    }
   ],
   "source": [
    "# reconstruct the original matrix\n",
    "B = Q.dot(L).dot(R)\n",
    "B"
   ]
  }
 ],
 "metadata": {
  "kernelspec": {
   "display_name": "Python 3",
   "language": "python",
   "name": "python3"
  },
  "language_info": {
   "codemirror_mode": {
    "name": "ipython",
    "version": 3
   },
   "file_extension": ".py",
   "mimetype": "text/x-python",
   "name": "python",
   "nbconvert_exporter": "python",
   "pygments_lexer": "ipython3",
   "version": "3.6.5"
  }
 },
 "nbformat": 4,
 "nbformat_minor": 2
}
